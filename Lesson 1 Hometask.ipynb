{
 "cells": [
  {
   "cell_type": "code",
   "execution_count": 2,
   "metadata": {},
   "outputs": [],
   "source": [
    "import csv\n",
    "import sys\n",
    "from collections import Counter, defaultdict"
   ]
  },
  {
   "cell_type": "code",
   "execution_count": 3,
   "metadata": {},
   "outputs": [
    {
     "data": {
      "text/plain": [
       "131072"
      ]
     },
     "execution_count": 3,
     "metadata": {},
     "output_type": "execute_result"
    }
   ],
   "source": [
    "csv.field_size_limit(sys.maxsize)"
   ]
  },
  {
   "cell_type": "code",
   "execution_count": 4,
   "metadata": {},
   "outputs": [],
   "source": [
    "file_path = 'vacancy.csv'\n",
    "vacs = list(csv.DictReader(open(file_path)))"
   ]
  },
  {
   "cell_type": "code",
   "execution_count": 5,
   "metadata": {},
   "outputs": [
    {
     "data": {
      "text/plain": [
       "4002"
      ]
     },
     "execution_count": 5,
     "metadata": {},
     "output_type": "execute_result"
    }
   ],
   "source": [
    "# находим длину \n",
    "\n",
    "len(vacs)"
   ]
  },
  {
   "cell_type": "code",
   "execution_count": 6,
   "metadata": {},
   "outputs": [],
   "source": [
    "# просмотр первого словаря (чтобы понять какие данные мы имеем)\n",
    "# print (vacs[0])"
   ]
  },
  {
   "cell_type": "code",
   "execution_count": 7,
   "metadata": {},
   "outputs": [
    {
     "name": "stdout",
     "output_type": "stream",
     "text": [
      "9\n"
     ]
    },
    {
     "data": {
      "text/plain": [
       "dict_keys(['id', 'created_at', 'updated_at', 'vacid', 'vactitle', 'vacdescription', 'vacdate', 'vacstatus', 'vaclink'])"
      ]
     },
     "execution_count": 7,
     "metadata": {},
     "output_type": "execute_result"
    }
   ],
   "source": [
    "# ключи\n",
    "\n",
    "print (len(vacs[0]))\n",
    "dict.keys(vacs[0])"
   ]
  },
  {
   "cell_type": "code",
   "execution_count": 8,
   "metadata": {},
   "outputs": [
    {
     "data": {
      "text/plain": [
       "2167"
      ]
     },
     "execution_count": 8,
     "metadata": {},
     "output_type": "execute_result"
    }
   ],
   "source": [
    "# уникальные вакансии\n",
    "\n",
    "unic_vacancy = {a['vactitle'] for a in vacs}\n",
    "len(unic_vacancy)"
   ]
  },
  {
   "cell_type": "code",
   "execution_count": 14,
   "metadata": {},
   "outputs": [
    {
     "name": "stdout",
     "output_type": "stream",
     "text": [
      "12\n"
     ]
    }
   ],
   "source": [
    "# вакансии которые мне нравятся\n",
    "\n",
    "vacancy_da = [x for x in all_vacs if 'Junior' in x] \n",
    "print(len(vacancy_da))"
   ]
  },
  {
   "cell_type": "code",
   "execution_count": 15,
   "metadata": {},
   "outputs": [
    {
     "name": "stdout",
     "output_type": "stream",
     "text": [
      "116\n",
      "('2020-10-15', '2021-03-17')\n"
     ]
    }
   ],
   "source": [
    "# промежуток времени (тяжелый путь) - 1\n",
    "\n",
    "unic_date = list({p['vacdate'] for p in vacs})\n",
    "print(len(unic_date))\n",
    "unic_date.sort ()\n",
    "sorted_date = ((unic_date[1]),(unic_date[-1]))\n",
    "print (sorted_date)"
   ]
  },
  {
   "cell_type": "code",
   "execution_count": 16,
   "metadata": {},
   "outputs": [
    {
     "name": "stdout",
     "output_type": "stream",
     "text": [
      "2020-10-15 - 2021-03-17\n"
     ]
    }
   ],
   "source": [
    "# промежуток времени (простой способ) - 2\n",
    "print (min(sorted_date),'-',max(sorted_date))"
   ]
  },
  {
   "cell_type": "code",
   "execution_count": 17,
   "metadata": {},
   "outputs": [
    {
     "name": "stdout",
     "output_type": "stream",
     "text": [
      "1\n"
     ]
    },
    {
     "data": {
      "text/plain": [
       "['Финансовый советник Сбербанк Первый']"
      ]
     },
     "execution_count": 17,
     "metadata": {},
     "output_type": "execute_result"
    }
   ],
   "source": [
    "# ваканссия на которой я работаю\n",
    "\n",
    "vacancy_manager = [x for x in all_vacs if 'Финансовый советник Сбербанк' in x]\n",
    "print(len (vacancy_manager))\n",
    "vacancy_manager"
   ]
  },
  {
   "cell_type": "code",
   "execution_count": 18,
   "metadata": {},
   "outputs": [
    {
     "name": "stdout",
     "output_type": "stream",
     "text": [
      "22\n"
     ]
    }
   ],
   "source": [
    "# количество вакансий Data Analyst\n",
    "\n",
    "vacancy_da = [x for x in all_vacs if 'Data Analyst' in x or 'data analyst' in x or 'Data analyst' in x or 'data Analyst' in x ] \n",
    "print(len(vacancy_da))"
   ]
  },
  {
   "cell_type": "code",
   "execution_count": 19,
   "metadata": {},
   "outputs": [
    {
     "name": "stdout",
     "output_type": "stream",
     "text": [
      "29\n"
     ]
    }
   ],
   "source": [
    "# количество вакансий python\n",
    "\n",
    "vacancy_python= [x for x in all_vacs if 'Python' in x]\n",
    "print(len (vacancy_python))"
   ]
  }
 ],
 "metadata": {
  "kernelspec": {
   "display_name": "Python 3.10.5 64-bit",
   "language": "python",
   "name": "python3"
  },
  "language_info": {
   "codemirror_mode": {
    "name": "ipython",
    "version": 3
   },
   "file_extension": ".py",
   "mimetype": "text/x-python",
   "name": "python",
   "nbconvert_exporter": "python",
   "pygments_lexer": "ipython3",
   "version": "3.10.5"
  },
  "orig_nbformat": 4,
  "vscode": {
   "interpreter": {
    "hash": "aee8b7b246df8f9039afb4144a1f6fd8d2ca17a180786b69acc140d282b71a49"
   }
  }
 },
 "nbformat": 4,
 "nbformat_minor": 2
}
